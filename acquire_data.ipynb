{
 "cells": [
  {
   "cell_type": "code",
   "execution_count": 11,
   "metadata": {
    "collapsed": true,
    "pycharm": {
     "name": "#%%\n"
    }
   },
   "outputs": [],
   "source": [
    "import csv\n",
    "infos = []\n",
    "with open('casia-kb-tourist-attraction .txt','r',encoding='utf-8') as f:\n",
    "    infos = f.readlines()\n",
    "# for i,info in enumerate(infos):\n",
    "#     # print(\"-------{}-------\".format(i))\n",
    "#     if i%5!=4 and i%5!=0 :\n",
    "#         print(\"-----{}------\".format(i))\n",
    "#         print(info)\n",
    "#         infos_1.append(info)\n",
    "infos_1 = [info for i,info in enumerate(infos) if i%5!=4 and i%5!=0]\n",
    "infos_2 = [info.split('>')[2].split('.')[0].split('\"')[1] for info in infos_1]\n",
    "f = open('attraction_info.csv','w',encoding='utf-8')\n",
    "csv_writer = csv.writer(f)\n",
    "for i in range(len(infos_2)):\n",
    "    if i%3==2 :\n",
    "        csv_writer.writerow([infos_2[i-2],infos_2[i-1],infos_2[i]])\n",
    "f.close()"
   ]
  },
  {
   "cell_type": "code",
   "execution_count": 1,
   "outputs": [],
   "source": [
    "import  csv\n",
    "infos = []\n",
    "with open('attraction_info.csv','r',encoding='utf-8') as f:\n",
    "    reader = csv.reader(f)\n",
    "    for info in reader:\n",
    "        infos.append(info)"
   ],
   "metadata": {
    "collapsed": false,
    "pycharm": {
     "name": "#%%\n"
    }
   }
  },
  {
   "cell_type": "code",
   "execution_count": 26,
   "outputs": [],
   "source": [
    "infos_entity = [info[0] for info in infos]\n",
    "infos_entity = list(set(infos_entity))\n",
    "# print(infos_entity)\n",
    "infos_attribute = [info[1] for info in infos if info[1]!='实例']\n",
    "infos_attribute = list(set(infos_attribute))\n",
    "del infos_entity[0]\n",
    "# print(infos_attribute)\n",
    "infos_attribute = ['标签','名称']+infos_attribute\n",
    "# print(infos_attribute)\n",
    "f = open('attraction_entity.csv','w',encoding='utf-8')\n",
    "csv_writer = csv.writer(f)\n",
    "csv_writer.writerow(infos_attribute)\n",
    "entity = ' '\n",
    "# # entity_attribute = [' ']*len(infos_attribute)\n",
    "# print(entity_attribute)\n",
    "for info in infos:\n",
    "    if entity != info[0]:\n",
    "        csv_writer.writerow(entity_attribute)\n",
    "        entity = info[0]\n",
    "        entity_attribute = [' ']*len(infos_attribute)\n",
    "    if info[1]!='实例':\n",
    "        entity_attribute[0]='item'\n",
    "        entity_attribute[1]= entity\n",
    "        entity_attribute[infos_attribute.index(info[1])]=info[2]\n",
    "    else:\n",
    "        entity_attribute[0]='type'\n",
    "        entity_attribute[1]= entity\n",
    "        entity_attribute[2:]=''\n",
    "csv_writer.writerow(entity_attribute)\n",
    "f.close()\n",
    "\n",
    "\n",
    "\n",
    "\n",
    "\n",
    "\n",
    "\n",
    "\n"
   ],
   "metadata": {
    "collapsed": false,
    "pycharm": {
     "name": "#%%\n"
    }
   }
  },
  {
   "cell_type": "code",
   "execution_count": 12,
   "outputs": [],
   "source": [
    "import  csv\n",
    "infos = []\n",
    "with open('attraction_entity.csv','r',encoding='utf-8') as f:\n",
    "    reader = csv.reader(f)\n",
    "    for info in reader:\n",
    "        infos.append(info)\n",
    "infos= [info for i,info in enumerate(infos) if i%2==0 ]\n",
    "# for i,info in enumerate(infos):\n",
    "#     print(\"------{}------\".format(i))\n",
    "#     print(info)\n",
    "infos_item = [info[1] for info in infos if info[0]=='item']\n",
    "infos_all = []\n",
    "with open('attraction_info.csv','r',encoding='utf-8') as f:\n",
    "    reader = csv.reader(f)\n",
    "    for info in reader:\n",
    "        infos_all.append(info)\n",
    "infos_type_item = [info[2] for info in infos_all if info[1]=='实例']\n",
    "infos_type_item = list(set(infos_type_item))\n",
    "\n",
    "f = open('attraction_entity.csv','a+',encoding='utf-8')\n",
    "csv_writer = csv.writer(f)\n",
    "for info_item in infos_type_item:\n",
    "    if infos_item.count(info_item)==0 :\n",
    "        add_item = []\n",
    "        add_item.append('item')\n",
    "        add_item.append(info_item)\n",
    "        add_item +=[' ']*len(infos[0]-2)\n",
    "        csv_writer.writerow(add_item)\n",
    "f.close()\n",
    "\n"
   ],
   "metadata": {
    "collapsed": false,
    "pycharm": {
     "name": "#%%\n"
    }
   }
  },
  {
   "cell_type": "code",
   "execution_count": 5,
   "outputs": [
    {
     "name": "stdout",
     "output_type": "stream",
     "text": [
      "1198\n",
      "1198\n"
     ]
    }
   ],
   "source": [
    "import csv\n",
    "infos_all = []\n",
    "with open('attraction_info.csv','r',encoding='utf-8') as f:\n",
    "    reader = csv.reader(f)\n",
    "    for info in reader:\n",
    "        infos_all.append(info)\n",
    "infos_relation = [info for info in infos_all if info[1]=='实例']\n",
    "print(len(infos_relation))\n",
    "infos = []\n",
    "f = open('attraction_relation.csv','w',encoding='utf-8')\n",
    "csv_writer = csv.writer(f)\n",
    "csv_writer.writerow(['标签','名称','关系','标签A','名称A'])\n",
    "for relation in infos_relation:\n",
    "    relation_info = []\n",
    "    relation_info.append('type')\n",
    "    relation_info.append(relation[0])\n",
    "    relation_info.append(relation[1])\n",
    "    relation_info.append('item')\n",
    "    relation_info.append(relation[2])\n",
    "    infos.append(relation_info)\n",
    "    csv_writer.writerow(relation_info)\n",
    "f.close()\n",
    "print(len(infos))"
   ],
   "metadata": {
    "collapsed": false,
    "pycharm": {
     "name": "#%%\n"
    }
   }
  },
  {
   "cell_type": "code",
   "execution_count": 28,
   "outputs": [],
   "source": [
    "infos_attribute_item = []\n",
    "with open('attraction_entity.csv','r',encoding='utf-8') as f:\n",
    "    reader = csv.reader(f)\n",
    "    for info in reader:\n",
    "        infos_attribute_item.append(info)\n",
    "infos_attribute_item=infos_attribute_item[0]\n",
    "infos_attribute_item = infos_attribute_item[2:]\n",
    "f = open('attraction_task.csv','w',encoding='utf-8')\n",
    "csv_writer = csv.writer(f)\n",
    "csv_writer.writerow(['Title','Table','Label','id','Relationship','Label_T','ID_T','Property'])\n",
    "add = ['创建节点','item','<标签>','名称:\\'<名称>\\'','','','']\n",
    "for attribute in infos_attribute_item:\n",
    "    add.append((attribute+':'+'\\''+'<'+attribute+'>'+'\\''))\n",
    "csv_writer.writerow(add)\n",
    "add = ['创建节点','type','<标签>','名称:\\'<名称>\\'']\n",
    "csv_writer.writerow(add)\n",
    "add = ['创建关系','关系','<标签>','名称:\\'<名称>\\'','关系','<标签A>','名称A:\\'<名称A>\\'']\n",
    "csv_writer.writerow(add)\n",
    "f.close()"
   ],
   "metadata": {
    "collapsed": false,
    "pycharm": {
     "name": "#%%\n"
    }
   }
  },
  {
   "cell_type": "code",
   "execution_count": null,
   "outputs": [],
   "source": [],
   "metadata": {
    "collapsed": false,
    "pycharm": {
     "name": "#%%\n"
    }
   }
  }
 ],
 "metadata": {
  "kernelspec": {
   "display_name": "Python 3",
   "language": "python",
   "name": "python3"
  },
  "language_info": {
   "codemirror_mode": {
    "name": "ipython",
    "version": 2
   },
   "file_extension": ".py",
   "mimetype": "text/x-python",
   "name": "python",
   "nbconvert_exporter": "python",
   "pygments_lexer": "ipython2",
   "version": "2.7.6"
  }
 },
 "nbformat": 4,
 "nbformat_minor": 0
}